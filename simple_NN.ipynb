{
 "cells": [
  {
   "cell_type": "code",
   "execution_count": 1,
   "metadata": {
    "ExecuteTime": {
     "end_time": "2021-07-19T13:57:03.103035Z",
     "start_time": "2021-07-19T13:57:02.436732Z"
    }
   },
   "outputs": [],
   "source": [
    "import os\n",
    "import pandas as pd\n",
    "import numpy as np\n",
    "import matplotlib.pyplot as plt\n",
    "from numpy.random import permutation\n",
    "import math\n",
    "import os"
   ]
  },
  {
   "cell_type": "code",
   "execution_count": 21,
   "metadata": {
    "ExecuteTime": {
     "end_time": "2021-07-19T15:13:42.235596Z",
     "start_time": "2021-07-19T15:13:42.079195Z"
    },
    "scrolled": true
   },
   "outputs": [],
   "source": [
    "from sklearn.model_selection import cross_val_score, train_test_split \n",
    "#from sklearn.preprocessing import StandardScaler\n",
    "#df=pd.read_csv('sisfall_3s_rad_pitch.csv')\n",
    "\n",
    "df=pd.read_csv('sisfall_3s_rad_pitch_100Hz.csv')\n",
    "\n",
    "#12维度 没有min\n",
    "cols=['max_Ax','var_Ax','mean_Ax','max_Ay',\n",
    "      'var_Ay','mean_Ay','max_Az','var_Az','mean_Az',\n",
    "      'max_pitch','var_pitch','mean_pitch','label']\n",
    "\n",
    "\n",
    "#16维度\n",
    "# cols=['max_Ax','min_Ax','var_Ax','mean_Ax','max_Ay','min_Ay',\n",
    "#       'var_Ay','mean_Ay','max_Az','min_Az','var_Az','mean_Az',\n",
    "#       'max_pitch','min_pitch','var_pitch','mean_pitch','label']\n",
    "\n",
    "df=df[cols]\n",
    "y=df['label']\n",
    "X=df.drop('label',axis=1)\n",
    "X_train, X_test, y_train, y_test = train_test_split(X, y,\n",
    "                                                    test_size=0.2,random_state=42)"
   ]
  },
  {
   "cell_type": "code",
   "execution_count": 25,
   "metadata": {
    "ExecuteTime": {
     "end_time": "2021-07-19T15:14:28.997367Z",
     "start_time": "2021-07-19T15:14:28.916193Z"
    }
   },
   "outputs": [
    {
     "name": "stdout",
     "output_type": "stream",
     "text": [
      "Model: \"sequential_3\"\n",
      "_________________________________________________________________\n",
      "Layer (type)                 Output Shape              Param #   \n",
      "=================================================================\n",
      "dense_12 (Dense)             (None, 32)                416       \n",
      "_________________________________________________________________\n",
      "dense_13 (Dense)             (None, 64)                2112      \n",
      "_________________________________________________________________\n",
      "dense_14 (Dense)             (None, 32)                2080      \n",
      "_________________________________________________________________\n",
      "dense_15 (Dense)             (None, 2)                 66        \n",
      "=================================================================\n",
      "Total params: 4,674\n",
      "Trainable params: 4,674\n",
      "Non-trainable params: 0\n",
      "_________________________________________________________________\n"
     ]
    }
   ],
   "source": [
    "import tensorflow as tf\n",
    "from tensorflow import keras\n",
    "from keras import models,layers\n",
    "#定义模型 ： 多层感知机 MLP\n",
    "model=models.Sequential()\n",
    "\n",
    "#添加网络层，Dense（全连接层）：多层感知器的各个层都是全连接层。\n",
    "model.add(layers.Dense( units=32,input_shape=(X_train.shape[1],)) )\n",
    "model.add(layers.Dense( units=64,activation=tf.nn.sigmoid ))\n",
    "# activation: 激活函数:sigmoid, relu,softmax,tanh,linear等\n",
    "model.add(layers.Dense( units=32,activation=tf.nn.sigmoid) )\n",
    "# output layer has 2 units (neurons) considering two categories: FALL/ADL          \n",
    "model.add(layers.Dense(units=2, activation=tf.nn.sigmoid) )\n",
    "\n",
    "model.summary()"
   ]
  },
  {
   "cell_type": "code",
   "execution_count": 26,
   "metadata": {
    "ExecuteTime": {
     "end_time": "2021-07-19T15:14:30.550241Z",
     "start_time": "2021-07-19T15:14:30.521426Z"
    }
   },
   "outputs": [],
   "source": [
    "# compile the model:编译模型\n",
    "# 损失函数的选择：categorical_crossentropy，sparse_categorical_crossentropy．．．　　　optimizer：　adam，sgd\n",
    "model.compile(optimizer='adam', \n",
    "              loss='sparse_categorical_crossentropy',\n",
    "              metrics=['accuracy'])\n",
    "\n",
    "callback_list=[\n",
    "    keras.callbacks.EarlyStopping(monitor='val_loss', patience=5,mode='auto')\n",
    "]"
   ]
  },
  {
   "cell_type": "code",
   "execution_count": 27,
   "metadata": {
    "ExecuteTime": {
     "end_time": "2021-07-19T15:14:38.954125Z",
     "start_time": "2021-07-19T15:14:31.900809Z"
    },
    "scrolled": true
   },
   "outputs": [
    {
     "name": "stdout",
     "output_type": "stream",
     "text": [
      "Epoch 1/1000\n",
      "113/113 [==============================] - 0s 4ms/step - loss: 0.5011 - accuracy: 0.7508 - val_loss: 0.2761 - val_accuracy: 0.9333\n",
      "Epoch 2/1000\n",
      "113/113 [==============================] - 0s 2ms/step - loss: 0.1952 - accuracy: 0.9450 - val_loss: 0.1670 - val_accuracy: 0.9411\n",
      "Epoch 3/1000\n",
      "113/113 [==============================] - 0s 2ms/step - loss: 0.1516 - accuracy: 0.9544 - val_loss: 0.1509 - val_accuracy: 0.9456\n",
      "Epoch 4/1000\n",
      "113/113 [==============================] - 0s 2ms/step - loss: 0.1375 - accuracy: 0.9594 - val_loss: 0.1253 - val_accuracy: 0.9622\n",
      "Epoch 5/1000\n",
      "113/113 [==============================] - 0s 2ms/step - loss: 0.1280 - accuracy: 0.9600 - val_loss: 0.1199 - val_accuracy: 0.9656\n",
      "Epoch 6/1000\n",
      "113/113 [==============================] - 0s 2ms/step - loss: 0.1232 - accuracy: 0.9628 - val_loss: 0.1145 - val_accuracy: 0.9633\n",
      "Epoch 7/1000\n",
      "113/113 [==============================] - 0s 2ms/step - loss: 0.1204 - accuracy: 0.9631 - val_loss: 0.1129 - val_accuracy: 0.9656\n",
      "Epoch 8/1000\n",
      "113/113 [==============================] - 0s 2ms/step - loss: 0.1182 - accuracy: 0.9631 - val_loss: 0.1094 - val_accuracy: 0.9656\n",
      "Epoch 9/1000\n",
      "113/113 [==============================] - 0s 2ms/step - loss: 0.1170 - accuracy: 0.9669 - val_loss: 0.1073 - val_accuracy: 0.9667\n",
      "Epoch 10/1000\n",
      "113/113 [==============================] - 0s 2ms/step - loss: 0.1159 - accuracy: 0.9656 - val_loss: 0.1060 - val_accuracy: 0.9667\n",
      "Epoch 11/1000\n",
      "113/113 [==============================] - 0s 2ms/step - loss: 0.1160 - accuracy: 0.9656 - val_loss: 0.1068 - val_accuracy: 0.9689\n",
      "Epoch 12/1000\n",
      "113/113 [==============================] - 0s 2ms/step - loss: 0.1143 - accuracy: 0.9669 - val_loss: 0.1041 - val_accuracy: 0.9656\n",
      "Epoch 13/1000\n",
      "113/113 [==============================] - 0s 2ms/step - loss: 0.1126 - accuracy: 0.9669 - val_loss: 0.1063 - val_accuracy: 0.9678\n",
      "Epoch 14/1000\n",
      "113/113 [==============================] - 0s 2ms/step - loss: 0.1140 - accuracy: 0.9664 - val_loss: 0.1051 - val_accuracy: 0.9667\n",
      "Epoch 15/1000\n",
      "113/113 [==============================] - 0s 2ms/step - loss: 0.1120 - accuracy: 0.9656 - val_loss: 0.1031 - val_accuracy: 0.9667\n",
      "Epoch 16/1000\n",
      "113/113 [==============================] - 0s 2ms/step - loss: 0.1118 - accuracy: 0.9686 - val_loss: 0.1026 - val_accuracy: 0.9678\n",
      "Epoch 17/1000\n",
      "113/113 [==============================] - 0s 2ms/step - loss: 0.1130 - accuracy: 0.9692 - val_loss: 0.1016 - val_accuracy: 0.9678\n",
      "Epoch 18/1000\n",
      "113/113 [==============================] - 0s 2ms/step - loss: 0.1130 - accuracy: 0.9664 - val_loss: 0.1017 - val_accuracy: 0.9656\n",
      "Epoch 19/1000\n",
      "113/113 [==============================] - 0s 2ms/step - loss: 0.1106 - accuracy: 0.9675 - val_loss: 0.1028 - val_accuracy: 0.9700\n",
      "Epoch 20/1000\n",
      "113/113 [==============================] - 0s 2ms/step - loss: 0.1093 - accuracy: 0.9692 - val_loss: 0.1008 - val_accuracy: 0.9722\n",
      "Epoch 21/1000\n",
      "113/113 [==============================] - 0s 2ms/step - loss: 0.1097 - accuracy: 0.9678 - val_loss: 0.1065 - val_accuracy: 0.9678\n",
      "Epoch 22/1000\n",
      "113/113 [==============================] - 0s 2ms/step - loss: 0.1109 - accuracy: 0.9669 - val_loss: 0.1067 - val_accuracy: 0.9689\n",
      "Epoch 23/1000\n",
      "113/113 [==============================] - 0s 2ms/step - loss: 0.1110 - accuracy: 0.9692 - val_loss: 0.1050 - val_accuracy: 0.9667\n",
      "Epoch 24/1000\n",
      "113/113 [==============================] - 0s 2ms/step - loss: 0.1107 - accuracy: 0.9667 - val_loss: 0.1040 - val_accuracy: 0.9711\n",
      "Epoch 25/1000\n",
      "113/113 [==============================] - 0s 2ms/step - loss: 0.1100 - accuracy: 0.9683 - val_loss: 0.1013 - val_accuracy: 0.9700\n"
     ]
    }
   ],
   "source": [
    "history = model.fit(\n",
    "                    X_train, y_train, \n",
    "                    epochs=1000,batch_size=32, \n",
    "                    validation_data=(X_test,y_test),\n",
    "                    callbacks=callback_list\n",
    "                    ) "
   ]
  },
  {
   "cell_type": "code",
   "execution_count": 29,
   "metadata": {
    "ExecuteTime": {
     "end_time": "2021-07-19T15:21:07.053261Z",
     "start_time": "2021-07-19T15:20:11.527735Z"
    }
   },
   "outputs": [
    {
     "name": "stdout",
     "output_type": "stream",
     "text": [
      "Sen: 0.9607843137254902\n",
      "Spe: 0.9760589318600368\n",
      "Auc: 0.97\n"
     ]
    }
   ],
   "source": [
    "TP=0\n",
    "TN=0\n",
    "FP=0\n",
    "FN=0\n",
    "Tr=0\n",
    "for i in range(X_test.shape[0]):\n",
    "    Input=X_test.values[i].reshape(1,-1)\n",
    "    if model.predict(Input)[0][0]>model.predict(Input)[0][1]:\n",
    "        y_pred=0\n",
    "    else:\n",
    "        y_pred=1\n",
    "    if (y_test.values[i]==1) and (y_pred==1):\n",
    "        TP+=1\n",
    "        Tr+=1\n",
    "    if (y_test.values[i]==1) and (y_pred==0):\n",
    "        FN+=1\n",
    "    if (y_test.values[i]==0) and (y_pred==1):\n",
    "        FP+=1\n",
    "    if (y_test.values[i]==0) and (y_pred==0):\n",
    "        TN+=1\n",
    "        Tr+=1\n",
    "Sen=TP/(TP+FN)\n",
    "Spe=TN/(TN+FP)\n",
    "Auc=Tr/(X_test.shape[0])\n",
    "print('Sen:',Sen)\n",
    "print('Spe:',Spe)\n",
    "print('Auc:',Auc)"
   ]
  },
  {
   "cell_type": "code",
   "execution_count": 14,
   "metadata": {
    "ExecuteTime": {
     "end_time": "2021-07-19T13:59:03.167781Z",
     "start_time": "2021-07-19T13:59:03.145928Z"
    }
   },
   "outputs": [
    {
     "data": {
      "text/plain": [
       "array([ 3.32031250e-01,  3.42058792e-04,  2.51881748e-01, -8.04687500e-01,\n",
       "        6.87071334e-04, -9.38862645e-01,  2.77343750e-01,  2.16774130e-03,\n",
       "        8.06166944e-02, -7.17831996e-01,  2.48216360e-02, -1.26951800e+00])"
      ]
     },
     "execution_count": 14,
     "metadata": {},
     "output_type": "execute_result"
    }
   ],
   "source": [
    "X_test.values[0]\n",
    "#model.predict(Input)[0][1]"
   ]
  },
  {
   "cell_type": "code",
   "execution_count": 32,
   "metadata": {
    "ExecuteTime": {
     "end_time": "2021-05-17T03:09:32.528457Z",
     "start_time": "2021-05-17T03:09:32.303093Z"
    }
   },
   "outputs": [
    {
     "data": {
      "text/plain": [
       "array([[2.6408677e-06, 9.9999738e-01]], dtype=float32)"
      ]
     },
     "execution_count": 32,
     "metadata": {},
     "output_type": "execute_result"
    }
   ],
   "source": [
    "#查看输出结果\n",
    "Input=X_train[-5:-4].values\n",
    "model.predict(Input)  # 预测结果为 [为0的概率，为1的概率]"
   ]
  },
  {
   "cell_type": "code",
   "execution_count": 33,
   "metadata": {
    "ExecuteTime": {
     "end_time": "2021-05-17T03:09:32.544457Z",
     "start_time": "2021-05-17T03:09:32.529459Z"
    }
   },
   "outputs": [
    {
     "data": {
      "text/plain": [
       "array([[ 1.74225757,  4.3126759 ,  1.18751505, -0.36502314,  0.3359375 ,\n",
       "         0.03226091, -0.5546875 ,  0.17961321,  0.3203125 ,  0.11067137]])"
      ]
     },
     "execution_count": 33,
     "metadata": {},
     "output_type": "execute_result"
    }
   ],
   "source": [
    "Input=X_train[-5:-4].values\n",
    "Input"
   ]
  },
  {
   "cell_type": "code",
   "execution_count": 62,
   "metadata": {
    "ExecuteTime": {
     "end_time": "2021-07-03T12:18:14.972807Z",
     "start_time": "2021-07-03T12:18:13.528055Z"
    },
    "code_folding": []
   },
   "outputs": [
    {
     "name": "stdout",
     "output_type": "stream",
     "text": [
      "WARNING:tensorflow:From D:\\Anaconda\\envs\\tf2\\lib\\site-packages\\tensorflow\\python\\training\\tracking\\tracking.py:111: Model.state_updates (from tensorflow.python.keras.engine.training) is deprecated and will be removed in a future version.\n",
      "Instructions for updating:\n",
      "This property should not be used in TensorFlow 2.0, as updates are applied automatically.\n",
      "WARNING:tensorflow:From D:\\Anaconda\\envs\\tf2\\lib\\site-packages\\tensorflow\\python\\training\\tracking\\tracking.py:111: Layer.updates (from tensorflow.python.keras.engine.base_layer) is deprecated and will be removed in a future version.\n",
      "Instructions for updating:\n",
      "This property should not be used in TensorFlow 2.0, as updates are applied automatically.\n",
      "INFO:tensorflow:Assets written to: C:\\Users\\11639\\AppData\\Local\\Temp\\tmprl_p64cu\\assets\n"
     ]
    },
    {
     "data": {
      "text/plain": [
       "72444"
      ]
     },
     "execution_count": 62,
     "metadata": {},
     "output_type": "execute_result"
    }
   ],
   "source": [
    "# Convert the model to the TensorFlow Lite format \n",
    "converter = tf.lite.TFLiteConverter.from_keras_model(model) \n",
    "tflite_model = converter.convert()\n",
    "# Save the model to disk\n",
    "open('fall_detection_model_2.tflite', \"wb\").write(tflite_model)"
   ]
  },
  {
   "cell_type": "code",
   "execution_count": 108,
   "metadata": {
    "ExecuteTime": {
     "end_time": "2021-07-03T13:28:23.061909Z",
     "start_time": "2021-07-03T13:28:23.053048Z"
    },
    "code_folding": []
   },
   "outputs": [],
   "source": [
    "def plot_acc(history, title='Model Accuracy'):\n",
    "    plt.plot(history.history['accuracy'],label='accuracy')\n",
    "    #plt.plot(history.history['val_acc'],label='val_acc')\n",
    "    plt.title(title)\n",
    "    plt.ylabel('Accuracy')\n",
    "    plt.xlabel('Epoch')\n",
    "    \n",
    "    plt.legend()\n",
    "    plt.show()\n",
    "    \n",
    "def plot_loss(history, title='Model Loss'):\n",
    "    plt.plot(history.history['loss'],label='loss')\n",
    "    #plt.plot(history.history['val_loss'],label='val_loss')\n",
    "    plt.title(title)\n",
    "    plt.ylabel('loss')\n",
    "    plt.xlabel('Epoch')\n",
    "    \n",
    "    plt.legend()\n",
    "    plt.show()"
   ]
  },
  {
   "cell_type": "code",
   "execution_count": 64,
   "metadata": {
    "ExecuteTime": {
     "end_time": "2021-07-03T12:18:20.698950Z",
     "start_time": "2021-07-03T12:18:20.687712Z"
    }
   },
   "outputs": [
    {
     "data": {
      "text/plain": [
       "['loss', 'accuracy']"
      ]
     },
     "execution_count": 64,
     "metadata": {},
     "output_type": "execute_result"
    }
   ],
   "source": [
    "model.metrics_names"
   ]
  },
  {
   "cell_type": "code",
   "execution_count": 109,
   "metadata": {
    "ExecuteTime": {
     "end_time": "2021-07-03T13:28:25.219791Z",
     "start_time": "2021-07-03T13:28:25.083588Z"
    },
    "code_folding": []
   },
   "outputs": [
    {
     "data": {
      "image/png": "[encoded data removed]",
      "text/plain": [
       "<Figure size 432x288 with 1 Axes>"
      ]
     },
     "metadata": {
      "needs_background": "light"
     },
     "output_type": "display_data"
    }
   ],
   "source": [
    "# Visualize results (using history for accuracy and loss)\n",
    "plot_acc(history, 'Model Accuracy')"
   ]
  },
  {
   "cell_type": "code",
   "execution_count": 110,
   "metadata": {
    "ExecuteTime": {
     "end_time": "2021-07-03T13:28:26.809169Z",
     "start_time": "2021-07-03T13:28:26.521769Z"
    }
   },
   "outputs": [
    {
     "data": {
      "image/png": "[encoded data removed]",
      "text/plain": [
       "<Figure size 432x288 with 1 Axes>"
      ]
     },
     "metadata": {
      "needs_background": "light"
     },
     "output_type": "display_data"
    }
   ],
   "source": [
    "plot_loss(history, 'Model Loss')"
   ]
  }
 ],
 "metadata": {
  "kernelspec": {
   "display_name": "Python 3",
   "language": "python",
   "name": "python3"
  },
  "language_info": {
   "codemirror_mode": {
    "name": "ipython",
    "version": 3
   },
   "file_extension": ".py",
   "mimetype": "text/x-python",
   "name": "python",
   "nbconvert_exporter": "python",
   "pygments_lexer": "ipython3",
   "version": "3.7.0"
  },
  "toc": {
   "base_numbering": 1,
   "nav_menu": {},
   "number_sections": true,
   "sideBar": true,
   "skip_h1_title": false,
   "title_cell": "Table of Contents",
   "title_sidebar": "Contents",
   "toc_cell": false,
   "toc_position": {},
   "toc_section_display": true,
   "toc_window_display": false
  },
  "varInspector": {
   "cols": {
    "lenName": 16,
    "lenType": 16,
    "lenVar": 40
   },
   "kernels_config": {
    "python": {
     "delete_cmd_postfix": "",
     "delete_cmd_prefix": "del ",
     "library": "var_list.py",
     "varRefreshCmd": "print(var_dic_list())"
    },
    "r": {
     "delete_cmd_postfix": ") ",
     "delete_cmd_prefix": "rm(",
     "library": "var_list.r",
     "varRefreshCmd": "cat(var_dic_list()) "
    }
   },
   "types_to_exclude": [
    "module",
    "function",
    "builtin_function_or_method",
    "instance",
    "_Feature"
   ],
   "window_display": false
  }
 },
 "nbformat": 4,
 "nbformat_minor": 2
}
