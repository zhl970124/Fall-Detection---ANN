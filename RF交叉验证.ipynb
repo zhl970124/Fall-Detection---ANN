{
 "cells": [
  {
   "cell_type": "code",
   "execution_count": 2,
   "metadata": {
    "ExecuteTime": {
     "end_time": "2021-08-01T08:54:13.069479Z",
     "start_time": "2021-08-01T08:54:13.056260Z"
    }
   },
   "outputs": [],
   "source": [
    "import os\n",
    "from tqdm import tqdm\n",
    "import pandas as pd\n",
    "import numpy as np\n",
    "import matplotlib.pyplot as plt\n",
    "from sklearn.metrics import confusion_matrix\n",
    "from sklearn.feature_selection import RFECV\n",
    "from sklearn.linear_model import LogisticRegression\n",
    "from sklearn.svm import SVC\n",
    "from sklearn.neighbors import KNeighborsClassifier #KNN\n",
    "from sklearn.ensemble import RandomForestClassifier\n",
    "from sklearn.model_selection import cross_val_score, train_test_split #交叉验证\n",
    "from sklearn.preprocessing import StandardScaler, MinMaxScaler, Normalizer\n",
    "from sklearn.metrics import confusion_matrix\n",
    "from numpy.random import permutation\n",
    "\n",
    "import math\n",
    "import warnings\n",
    "\n",
    "warnings.filterwarnings('ignore')"
   ]
  },
  {
   "cell_type": "markdown",
   "metadata": {},
   "source": [
    "#12个特征"
   ]
  },
  {
   "cell_type": "code",
   "execution_count": 3,
   "metadata": {
    "ExecuteTime": {
     "end_time": "2021-08-01T08:54:13.271805Z",
     "start_time": "2021-08-01T08:54:13.070426Z"
    }
   },
   "outputs": [
    {
     "name": "stdout",
     "output_type": "stream",
     "text": [
      "Total ADL: 2702\n",
      "Total Falls: 1798\n",
      "Train Falls: 1259\n",
      "Train ADL: 1892\n",
      "Test Falls: 539\n",
      "Test ADL: 810\n"
     ]
    }
   ],
   "source": [
    "#max,min,var,mean (xyz),共12个特征\n",
    "df=pd.read_csv('all_data_rad_pitch.csv')\n",
    "cols=['max_Ax','var_Ax','mean_Ax','max_Ay',\n",
    "      'var_Ay','mean_Ay','max_Az','var_Az','mean_Az',\n",
    "      'max_pitch','var_pitch','mean_pitch','label']\n",
    "df=df[cols]\n",
    "\n",
    "adl_df=df[df['label']==0]\n",
    "fall_df=df[df['label']==1]\n",
    "\n",
    "random_indices = permutation(adl_df.index)  #随机打乱index,得到的是一个index的序列\n",
    "test_split = math.floor(len(adl_df)*0.3)  #math.floor() 向下取整\n",
    "\n",
    "# len(random_indices)\n",
    "adl_df_test = adl_df.loc[random_indices[0:test_split]]\n",
    "# Train set with 70% of the items.\n",
    "adl_df_train = adl_df.loc[random_indices[test_split:]]\n",
    "\n",
    "# Now we prepare the sets of Falls\n",
    "random_indices = permutation(fall_df.index)\n",
    "test_split = math.floor(len(fall_df)*0.3)\n",
    "\n",
    "fall_df_test = fall_df.loc[random_indices[0:test_split]]\n",
    "fall_df_train = fall_df.loc[random_indices[test_split:]]\n",
    "\n",
    "print(\"Total ADL: \" + str(len(adl_df)))\n",
    "print(\"Total Falls: \" + str(len(fall_df)))\n",
    "print(\"Train Falls: \"+ str(len(fall_df_train)))\n",
    "print(\"Train ADL: \"+ str(len(adl_df_train)))\n",
    "print(\"Test Falls: \"+ str(len(fall_df_test)))\n",
    "print(\"Test ADL: \"+ str(len(adl_df_test)))\n",
    "\n",
    "#test_data\n",
    "frames = [adl_df_test, fall_df_test]\n",
    "test_data = pd.concat(frames) #默认axis=0\n",
    "\n",
    "#train_data\n",
    "frames = [adl_df_train, fall_df_train]\n",
    "train_data = pd.concat(frames) #默认axis=0\n",
    "\n",
    "#train_data.describe()\n",
    "y_train=train_data.label\n",
    "X_train=train_data.drop('label',axis=1)\n",
    "\n",
    "y_test=test_data.label\n",
    "X_test=test_data.drop('label',axis=1)"
   ]
  },
  {
   "cell_type": "markdown",
   "metadata": {},
   "source": [
    "RF+CV"
   ]
  },
  {
   "cell_type": "code",
   "execution_count": 4,
   "metadata": {
    "ExecuteTime": {
     "end_time": "2021-08-01T08:57:02.077883Z",
     "start_time": "2021-08-01T08:54:16.899955Z"
    }
   },
   "outputs": [
    {
     "name": "stderr",
     "output_type": "stream",
     "text": [
      "100%|████████████████████████████████████████████████████████████████████████████████| 100/100 [02:45<00:00,  3.34s/it]\n"
     ]
    },
    {
     "data": {
      "image/png": "[encoded data removed]",
      "text/plain": [
       "<Figure size 432x288 with 1 Axes>"
      ]
     },
     "metadata": {
      "needs_background": "light"
     },
     "output_type": "display_data"
    },
    {
     "name": "stdout",
     "output_type": "stream",
     "text": [
      "best val Accuracy: 0.9923819378056257\n",
      "RandomForestClassifier(bootstrap=True, class_weight=None, criterion='gini',\n",
      "            max_depth=None, max_features='auto', max_leaf_nodes=None,\n",
      "            min_impurity_decrease=0.0, min_impurity_split=None,\n",
      "            min_samples_leaf=1, min_samples_split=2,\n",
      "            min_weight_fraction_leaf=0.0, n_estimators=36, n_jobs=1,\n",
      "            oob_score=False, random_state=0, verbose=0, warm_start=False)\n"
     ]
    }
   ],
   "source": [
    "val_accuracy = []  #交叉验证得分\n",
    "bestAcc = 0.0  #最好的模型的交叉验证得分\n",
    "best_model=None\n",
    "xList=np.arange(1,101)\n",
    "for n in tqdm(xList):\n",
    "    forest = RandomForestClassifier(n_estimators=n, random_state=0)\n",
    "    #交叉验证的精确度\n",
    "    s=np.mean(cross_val_score(forest, X_train, y_train, cv=10))\n",
    "    val_accuracy.append(s)\n",
    "    if s>bestAcc:\n",
    "        bestAcc=s\n",
    "        best_model=forest\n",
    "        \n",
    "plt.figure()\n",
    "plt.plot(xList,val_accuracy,label='val_accuracy')\n",
    "plt.legend()\n",
    "plt.xlabel('number of n_estimators')\n",
    "plt.ylabel('val_Accuracy')\n",
    "plt.show();\n",
    "\n",
    "print('best val Accuracy:',bestAcc)\n",
    "print(best_model)"
   ]
  },
  {
   "cell_type": "code",
   "execution_count": 7,
   "metadata": {
    "ExecuteTime": {
     "end_time": "2021-08-01T08:57:15.286345Z",
     "start_time": "2021-08-01T08:57:15.141142Z"
    }
   },
   "outputs": [
    {
     "data": {
      "text/plain": [
       "RandomForestClassifier(bootstrap=True, class_weight=None, criterion='gini',\n",
       "            max_depth=None, max_features='auto', max_leaf_nodes=None,\n",
       "            min_impurity_decrease=0.0, min_impurity_split=None,\n",
       "            min_samples_leaf=1, min_samples_split=2,\n",
       "            min_weight_fraction_leaf=0.0, n_estimators=36, n_jobs=1,\n",
       "            oob_score=False, random_state=0, verbose=0, warm_start=False)"
      ]
     },
     "execution_count": 7,
     "metadata": {},
     "output_type": "execute_result"
    }
   ],
   "source": [
    "#找到最好的模型训练 X_train,y_train\n",
    "RF=best_model\n",
    "RF.fit(X_train,y_train)"
   ]
  },
  {
   "cell_type": "code",
   "execution_count": 8,
   "metadata": {
    "ExecuteTime": {
     "end_time": "2021-08-01T08:57:17.049949Z",
     "start_time": "2021-08-01T08:57:17.016059Z"
    }
   },
   "outputs": [
    {
     "name": "stdout",
     "output_type": "stream",
     "text": [
      "[[1892    0]\n",
      " [   0 1259]]\n",
      "Sensitivity = 1.0\n",
      "Specificity = 1.0\n",
      "Precision = 1.0\n",
      "Accuracy = 1.0\n"
     ]
    }
   ],
   "source": [
    "#训练数据的 混淆矩阵\n",
    "predictions = RF.predict(X_train)\n",
    "\n",
    "cm = confusion_matrix(y_train, predictions, labels=[0,1])\n",
    "print(cm)\n",
    "TN, FP, FN, TP = cm.ravel()\n",
    "\n",
    "# SENSITIVITY = TP / (TP + FN)\n",
    "Sensitivity = TP / (TP + FN)\n",
    "print(\"Sensitivity = \"+ str(Sensitivity))\n",
    "\n",
    "# SPECIFICITY = TN / (FP + TN)\n",
    "Specificity = TN / (FP + TN)\n",
    "print(\"Specificity = \"+ str(Specificity))\n",
    "\n",
    "# Precision = TP / (TP + FP)\n",
    "Precision = TP / (TP + FP)\n",
    "print(\"Precision = \"+ str(Precision))\n",
    "\n",
    "# Accuracy = (TP + TN) / (TP + FP + TN + FN)\n",
    "Accuracy = (TP + TN) / (TP + FP + TN + FN)\n",
    "print(\"Accuracy = \"+ str(Accuracy))"
   ]
  },
  {
   "cell_type": "code",
   "execution_count": 9,
   "metadata": {
    "ExecuteTime": {
     "end_time": "2021-08-01T08:57:19.885669Z",
     "start_time": "2021-08-01T08:57:19.853920Z"
    }
   },
   "outputs": [
    {
     "name": "stdout",
     "output_type": "stream",
     "text": [
      "[[801   9]\n",
      " [  9 530]]\n",
      "Sensitivity = 0.9833024118738405\n",
      "Specificity = 0.9888888888888889\n",
      "Precision = 0.9833024118738405\n",
      "Accuracy = 0.9866567828020756\n"
     ]
    }
   ],
   "source": [
    "#测试数据的 混淆矩阵\n",
    "predictions = RF.predict(X_test)\n",
    "\n",
    "cm = confusion_matrix(y_test, predictions, labels=[0,1])\n",
    "print(cm)\n",
    "TN, FP, FN, TP = cm.ravel()\n",
    "\n",
    "# SENSITIVITY = TP / (TP + FN)\n",
    "Sensitivity = TP / (TP + FN)\n",
    "print(\"Sensitivity = \"+ str(Sensitivity))\n",
    "\n",
    "# SPECIFICITY = TN / (FP + TN)\n",
    "Specificity = TN / (FP + TN)\n",
    "print(\"Specificity = \"+ str(Specificity))\n",
    "\n",
    "# Precision = TP / (TP + FP)\n",
    "Precision = TP / (TP + FP)\n",
    "print(\"Precision = \"+ str(Precision))\n",
    "\n",
    "# Accuracy = (TP + TN) / (TP + FP + TN + FN)\n",
    "Accuracy = (TP + TN) / (TP + FP + TN + FN)\n",
    "print(\"Accuracy = \"+ str(Accuracy))"
   ]
  },
  {
   "cell_type": "markdown",
   "metadata": {
    "ExecuteTime": {
     "end_time": "2020-11-17T05:27:38.799417Z",
     "start_time": "2020-11-17T05:27:38.783793Z"
    },
    "heading_collapsed": true
   },
   "source": [
    "#16维特征 ,添加pitch的"
   ]
  },
  {
   "cell_type": "code",
   "execution_count": 3,
   "metadata": {
    "ExecuteTime": {
     "end_time": "2020-11-17T05:28:15.465862Z",
     "start_time": "2020-11-17T05:28:15.349591Z"
    },
    "hidden": true
   },
   "outputs": [
    {
     "name": "stdout",
     "output_type": "stream",
     "text": [
      "Total ADL: 2702\n",
      "Total Falls: 1798\n",
      "Train Falls: 1259\n",
      "Train ADL: 1892\n",
      "Test Falls: 539\n",
      "Test ADL: 810\n"
     ]
    }
   ],
   "source": [
    "#max,min,var,mean (xyz),共12个特征\n",
    "df=pd.read_csv('all_data.csv')\n",
    "cols=['max_Ax','min_Ax','var_Ax','mean_Ax','max_Ay','min_Ay',\n",
    "      'var_Ay','mean_Ay','max_Az','min_Az','var_Az','mean_Az',\n",
    "      'max_pitch','min_pitch','var_pitch','mean_pitch','label']\n",
    "df=df[cols]\n",
    "\n",
    "adl_df=df[df['label']==0]\n",
    "fall_df=df[df['label']==1]\n",
    "\n",
    "random_indices = permutation(adl_df.index)  #随机打乱index,得到的是一个index的序列\n",
    "test_split = math.floor(len(adl_df)*0.3)  #math.floor() 向下取整\n",
    "\n",
    "# len(random_indices)\n",
    "adl_df_test = adl_df.loc[random_indices[0:test_split]]\n",
    "# Train set with 70% of the items.\n",
    "adl_df_train = adl_df.loc[random_indices[test_split:]]\n",
    "\n",
    "# Now we prepare the sets of Falls\n",
    "random_indices = permutation(fall_df.index)\n",
    "test_split = math.floor(len(fall_df)*0.3)\n",
    "\n",
    "fall_df_test = fall_df.loc[random_indices[0:test_split]]\n",
    "fall_df_train = fall_df.loc[random_indices[test_split:]]\n",
    "\n",
    "print(\"Total ADL: \" + str(len(adl_df)))\n",
    "print(\"Total Falls: \" + str(len(fall_df)))\n",
    "print(\"Train Falls: \"+ str(len(fall_df_train)))\n",
    "print(\"Train ADL: \"+ str(len(adl_df_train)))\n",
    "print(\"Test Falls: \"+ str(len(fall_df_test)))\n",
    "print(\"Test ADL: \"+ str(len(adl_df_test)))\n",
    "\n",
    "#test_data\n",
    "frames = [adl_df_test, fall_df_test]\n",
    "test_data = pd.concat(frames) #默认axis=0\n",
    "\n",
    "#train_data\n",
    "frames = [adl_df_train, fall_df_train]\n",
    "train_data = pd.concat(frames) #默认axis=0\n",
    "\n",
    "#train_data.describe()\n",
    "y_train=train_data.label\n",
    "X_train=train_data.drop('label',axis=1)\n",
    "\n",
    "y_test=test_data.label\n",
    "X_test=test_data.drop('label',axis=1)\n",
    "\n",
    "#RF不需要特征缩放"
   ]
  },
  {
   "cell_type": "code",
   "execution_count": 4,
   "metadata": {
    "ExecuteTime": {
     "end_time": "2020-11-17T05:32:46.346140Z",
     "start_time": "2020-11-17T05:28:21.557465Z"
    },
    "hidden": true
   },
   "outputs": [
    {
     "name": "stderr",
     "output_type": "stream",
     "text": [
      "100%|████████████████████████████████████████████████████████████████████████████████| 100/100 [04:24<00:00,  2.65s/it]\n"
     ]
    },
    {
     "data": {
      "text/plain": [
       "<Figure size 432x288 with 0 Axes>"
      ]
     },
     "execution_count": 4,
     "metadata": {},
     "output_type": "execute_result"
    },
    {
     "data": {
      "text/plain": [
       "[<matplotlib.lines.Line2D at 0x1817a4f0fc8>]"
      ]
     },
     "execution_count": 4,
     "metadata": {},
     "output_type": "execute_result"
    },
    {
     "data": {
      "text/plain": [
       "<matplotlib.legend.Legend at 0x1817a4f9288>"
      ]
     },
     "execution_count": 4,
     "metadata": {},
     "output_type": "execute_result"
    },
    {
     "data": {
      "text/plain": [
       "Text(0.5, 0, 'number of n_estimators')"
      ]
     },
     "execution_count": 4,
     "metadata": {},
     "output_type": "execute_result"
    },
    {
     "data": {
      "text/plain": [
       "Text(0, 0.5, 'val_Accuracy')"
      ]
     },
     "execution_count": 4,
     "metadata": {},
     "output_type": "execute_result"
    },
    {
     "data": {
      "image/png": "[encoded data removed]",
      "text/plain": [
       "<Figure size 432x288 with 1 Axes>"
      ]
     },
     "metadata": {
      "needs_background": "light"
     },
     "output_type": "display_data"
    },
    {
     "name": "stdout",
     "output_type": "stream",
     "text": [
      "best val Accuracy: 0.9936507808530708\n",
      "RandomForestClassifier(bootstrap=True, class_weight=None, criterion='gini',\n",
      "            max_depth=None, max_features='auto', max_leaf_nodes=None,\n",
      "            min_impurity_decrease=0.0, min_impurity_split=None,\n",
      "            min_samples_leaf=1, min_samples_split=2,\n",
      "            min_weight_fraction_leaf=0.0, n_estimators=42, n_jobs=None,\n",
      "            oob_score=False, random_state=0, verbose=0, warm_start=False)\n"
     ]
    }
   ],
   "source": [
    "val_accuracy = []  #交叉验证得分\n",
    "bestAcc = 0.0  #最好的模型的交叉验证得分\n",
    "best_model=None\n",
    "xList=np.arange(1,101)\n",
    "for n in tqdm(xList):\n",
    "    forest = RandomForestClassifier(n_estimators=n, random_state=0)\n",
    "    #交叉验证的精确度\n",
    "    s=np.mean(cross_val_score(forest, X_train, y_train, cv=10))\n",
    "    val_accuracy.append(s)\n",
    "    if s>bestAcc:\n",
    "        bestAcc=s\n",
    "        best_model=forest\n",
    "        \n",
    "plt.figure()\n",
    "plt.plot(xList,val_accuracy,label='val_accuracy')\n",
    "plt.legend()\n",
    "plt.xlabel('number of n_estimators')\n",
    "plt.ylabel('val_Accuracy')\n",
    "plt.show();\n",
    "\n",
    "print('best val Accuracy:',bestAcc)\n",
    "print(best_model)"
   ]
  },
  {
   "cell_type": "code",
   "execution_count": 5,
   "metadata": {
    "ExecuteTime": {
     "end_time": "2020-11-17T05:35:44.478942Z",
     "start_time": "2020-11-17T05:35:44.228088Z"
    },
    "hidden": true
   },
   "outputs": [
    {
     "data": {
      "text/plain": [
       "RandomForestClassifier(bootstrap=True, class_weight=None, criterion='gini',\n",
       "            max_depth=None, max_features='auto', max_leaf_nodes=None,\n",
       "            min_impurity_decrease=0.0, min_impurity_split=None,\n",
       "            min_samples_leaf=1, min_samples_split=2,\n",
       "            min_weight_fraction_leaf=0.0, n_estimators=42, n_jobs=None,\n",
       "            oob_score=False, random_state=0, verbose=0, warm_start=False)"
      ]
     },
     "execution_count": 5,
     "metadata": {},
     "output_type": "execute_result"
    }
   ],
   "source": [
    "#找到最好的模型训练 X_train,y_train\n",
    "RF=best_model\n",
    "#RF=RandomForestClassifier(n_estimators=39, random_state=0)\n",
    "#RF=RandomForestClassifier()\n",
    "RF.fit(X_train,y_train)"
   ]
  },
  {
   "cell_type": "code",
   "execution_count": 6,
   "metadata": {
    "ExecuteTime": {
     "end_time": "2020-11-17T05:35:48.019823Z",
     "start_time": "2020-11-17T05:35:47.971832Z"
    },
    "hidden": true
   },
   "outputs": [
    {
     "name": "stdout",
     "output_type": "stream",
     "text": [
      "[[1892    0]\n",
      " [   0 1259]]\n",
      "Sensitivity = 1.0\n",
      "Specificity = 1.0\n",
      "Precision = 1.0\n",
      "Accuracy = 1.0\n"
     ]
    }
   ],
   "source": [
    "#训练数据的 混淆矩阵\n",
    "predictions = RF.predict(X_train)\n",
    "\n",
    "cm = confusion_matrix(y_train, predictions, labels=[0,1])\n",
    "print(cm)\n",
    "TN, FP, FN, TP = cm.ravel()\n",
    "\n",
    "# SENSITIVITY = TP / (TP + FN)\n",
    "Sensitivity = TP / (TP + FN)\n",
    "print(\"Sensitivity = \"+ str(Sensitivity))\n",
    "\n",
    "# SPECIFICITY = TN / (FP + TN)\n",
    "Specificity = TN / (FP + TN)\n",
    "print(\"Specificity = \"+ str(Specificity))\n",
    "\n",
    "# Precision = TP / (TP + FP)\n",
    "Precision = TP / (TP + FP)\n",
    "print(\"Precision = \"+ str(Precision))\n",
    "\n",
    "# Accuracy = (TP + TN) / (TP + FP + TN + FN)\n",
    "Accuracy = (TP + TN) / (TP + FP + TN + FN)\n",
    "print(\"Accuracy = \"+ str(Accuracy))"
   ]
  },
  {
   "cell_type": "code",
   "execution_count": 7,
   "metadata": {
    "ExecuteTime": {
     "end_time": "2020-11-17T05:35:50.231288Z",
     "start_time": "2020-11-17T05:35:50.203304Z"
    },
    "hidden": true
   },
   "outputs": [
    {
     "name": "stdout",
     "output_type": "stream",
     "text": [
      "[[802   8]\n",
      " [  5 534]]\n",
      "Sensitivity = 0.9907235621521335\n",
      "Specificity = 0.9901234567901235\n",
      "Precision = 0.985239852398524\n",
      "Accuracy = 0.9903632320237212\n"
     ]
    }
   ],
   "source": [
    "#测试数据的 混淆矩阵\n",
    "predictions = RF.predict(X_test)\n",
    "\n",
    "cm = confusion_matrix(y_test, predictions, labels=[0,1])\n",
    "print(cm)\n",
    "TN, FP, FN, TP = cm.ravel()\n",
    "\n",
    "# SENSITIVITY = TP / (TP + FN)\n",
    "Sensitivity = TP / (TP + FN)\n",
    "print(\"Sensitivity = \"+ str(Sensitivity))\n",
    "\n",
    "# SPECIFICITY = TN / (FP + TN)\n",
    "Specificity = TN / (FP + TN)\n",
    "print(\"Specificity = \"+ str(Specificity))\n",
    "\n",
    "# Precision = TP / (TP + FP)\n",
    "Precision = TP / (TP + FP)\n",
    "print(\"Precision = \"+ str(Precision))\n",
    "\n",
    "# Accuracy = (TP + TN) / (TP + FP + TN + FN)\n",
    "Accuracy = (TP + TN) / (TP + FP + TN + FN)\n",
    "print(\"Accuracy = \"+ str(Accuracy))"
   ]
  },
  {
   "cell_type": "markdown",
   "metadata": {
    "ExecuteTime": {
     "end_time": "2020-11-14T13:52:25.855839Z",
     "start_time": "2020-11-14T13:52:25.851841Z"
    },
    "heading_collapsed": true
   },
   "source": [
    "#27个特征"
   ]
  },
  {
   "cell_type": "code",
   "execution_count": 536,
   "metadata": {
    "ExecuteTime": {
     "end_time": "2020-11-15T07:24:02.305010Z",
     "start_time": "2020-11-15T07:24:02.207067Z"
    },
    "hidden": true
   },
   "outputs": [
    {
     "name": "stdout",
     "output_type": "stream",
     "text": [
      "Total ADL: 2702\n",
      "Total Falls: 1798\n",
      "Train Falls: 1259\n",
      "Train ADL: 1892\n",
      "Test Falls: 539\n",
      "Test ADL: 810\n"
     ]
    }
   ],
   "source": [
    "df=pd.read_csv('all_data.csv')\n",
    "cols=['label', 'max_Ax', 'min_Ax', 'range_Ax', 'kurtosis_Ax', 'skewness_Ax',\n",
    "       'max_Ay', 'min_Ay', 'range_Ay', 'kurtosis_Ay', 'skewness_Ay', 'max_Az',\n",
    "       'min_Az', 'range_Az', 'kurtosis_Az', 'skewness_Az', 'max_SVM',\n",
    "       'range_SVM', 'kurtosis_SVM', 'skewness_SVM', 'max_HOR', 'range_HOR',\n",
    "       'kurtosis_HOR', 'skewness_HOR', 'max_VER', 'range_VER', 'kurtosis_VER',\n",
    "       'skewness_VER']\n",
    "\n",
    "df=df[cols]\n",
    "\n",
    "adl_df=df[df['label']==0]\n",
    "fall_df=df[df['label']==1]\n",
    "\n",
    "random_indices = permutation(adl_df.index)  #随机打乱index,得到的是一个index的序列\n",
    "test_split = math.floor(len(adl_df)*0.3)  #math.floor() 向下取整\n",
    "\n",
    "# len(random_indices)\n",
    "adl_df_test = adl_df.loc[random_indices[0:test_split]]\n",
    "# Train set with 70% of the items.\n",
    "adl_df_train = adl_df.loc[random_indices[test_split:]]\n",
    "\n",
    "# Now we prepare the sets of Falls\n",
    "random_indices = permutation(fall_df.index)\n",
    "test_split = math.floor(len(fall_df)*0.3)\n",
    "\n",
    "fall_df_test = fall_df.loc[random_indices[0:test_split]]\n",
    "fall_df_train = fall_df.loc[random_indices[test_split:]]\n",
    "\n",
    "print(\"Total ADL: \" + str(len(adl_df)))\n",
    "print(\"Total Falls: \" + str(len(fall_df)))\n",
    "print(\"Train Falls: \"+ str(len(fall_df_train)))\n",
    "print(\"Train ADL: \"+ str(len(adl_df_train)))\n",
    "print(\"Test Falls: \"+ str(len(fall_df_test)))\n",
    "print(\"Test ADL: \"+ str(len(adl_df_test)))\n",
    "\n",
    "#test_data\n",
    "frames = [adl_df_test, fall_df_test]\n",
    "test_data = pd.concat(frames) #默认axis=0\n",
    "\n",
    "#train_data\n",
    "frames = [adl_df_train, fall_df_train]\n",
    "train_data = pd.concat(frames) #默认axis=0\n",
    "\n",
    "#train_data.describe()\n",
    "y_train=train_data.label\n",
    "X_train=train_data.drop('label',axis=1)\n",
    "\n",
    "y_test=test_data.label\n",
    "X_test=test_data.drop('label',axis=1)\n",
    "\n",
    "#特征缩放\n",
    "#scaler=StandardScaler()\n",
    "#X_train=scaler.fit_transform(X_train)\n",
    "#X_test=scaler.fit_transform(X_test)"
   ]
  },
  {
   "cell_type": "code",
   "execution_count": 537,
   "metadata": {
    "ExecuteTime": {
     "end_time": "2020-11-15T07:29:52.120853Z",
     "start_time": "2020-11-15T07:24:03.978519Z"
    },
    "hidden": true,
    "scrolled": false
   },
   "outputs": [
    {
     "name": "stderr",
     "output_type": "stream",
     "text": [
      "100%|████████████████████████████████████████████████████████████████████████████████| 100/100 [05:47<00:00,  3.48s/it]\n"
     ]
    },
    {
     "data": {
      "text/plain": [
       "<Figure size 432x288 with 0 Axes>"
      ]
     },
     "execution_count": 537,
     "metadata": {},
     "output_type": "execute_result"
    },
    {
     "data": {
      "text/plain": [
       "[<matplotlib.lines.Line2D at 0x2a5fe36cd48>]"
      ]
     },
     "execution_count": 537,
     "metadata": {},
     "output_type": "execute_result"
    },
    {
     "data": {
      "text/plain": [
       "<matplotlib.legend.Legend at 0x2a5fe297a08>"
      ]
     },
     "execution_count": 537,
     "metadata": {},
     "output_type": "execute_result"
    },
    {
     "data": {
      "text/plain": [
       "Text(0.5, 0, 'number of n_estimators')"
      ]
     },
     "execution_count": 537,
     "metadata": {},
     "output_type": "execute_result"
    },
    {
     "data": {
      "text/plain": [
       "Text(0, 0.5, 'val_Accuracy')"
      ]
     },
     "execution_count": 537,
     "metadata": {},
     "output_type": "execute_result"
    },
    {
     "data": {
      "image/png": "[encoded data removed]",
      "text/plain": [
       "<Figure size 432x288 with 1 Axes>"
      ]
     },
     "metadata": {
      "needs_background": "light"
     },
     "output_type": "display_data"
    },
    {
     "name": "stdout",
     "output_type": "stream",
     "text": [
      "best val Accuracy: 0.9838155131439015\n",
      "RandomForestClassifier(bootstrap=True, class_weight=None, criterion='gini',\n",
      "            max_depth=None, max_features='auto', max_leaf_nodes=None,\n",
      "            min_impurity_decrease=0.0, min_impurity_split=None,\n",
      "            min_samples_leaf=1, min_samples_split=2,\n",
      "            min_weight_fraction_leaf=0.0, n_estimators=35, n_jobs=None,\n",
      "            oob_score=False, random_state=0, verbose=0, warm_start=False)\n"
     ]
    }
   ],
   "source": [
    "val_accuracy = []  #交叉验证得分\n",
    "bestAcc = 0.0  #最好的模型的交叉验证得分\n",
    "best_model=None\n",
    "xList=np.arange(1,101)\n",
    "for n in tqdm(xList):\n",
    "    forest = RandomForestClassifier(n_estimators=n, random_state=0)\n",
    "    #交叉验证的精确度\n",
    "    s=np.mean(cross_val_score(forest, X_train, y_train, cv=10))\n",
    "    val_accuracy.append(s)\n",
    "    if s>bestAcc:\n",
    "        bestAcc=s\n",
    "        best_model=forest\n",
    "        \n",
    "plt.figure()\n",
    "plt.plot(xList,val_accuracy,label='val_accuracy')\n",
    "plt.legend()\n",
    "plt.xlabel('number of n_estimators')\n",
    "plt.ylabel('val_Accuracy')\n",
    "plt.show();\n",
    "\n",
    "print('best val Accuracy:',bestAcc)\n",
    "print(best_model)"
   ]
  },
  {
   "cell_type": "code",
   "execution_count": 538,
   "metadata": {
    "ExecuteTime": {
     "end_time": "2020-11-15T07:29:52.402095Z",
     "start_time": "2020-11-15T07:29:52.122851Z"
    },
    "hidden": true
   },
   "outputs": [
    {
     "data": {
      "text/plain": [
       "RandomForestClassifier(bootstrap=True, class_weight=None, criterion='gini',\n",
       "            max_depth=None, max_features='auto', max_leaf_nodes=None,\n",
       "            min_impurity_decrease=0.0, min_impurity_split=None,\n",
       "            min_samples_leaf=1, min_samples_split=2,\n",
       "            min_weight_fraction_leaf=0.0, n_estimators=35, n_jobs=None,\n",
       "            oob_score=False, random_state=0, verbose=0, warm_start=False)"
      ]
     },
     "execution_count": 538,
     "metadata": {},
     "output_type": "execute_result"
    }
   ],
   "source": [
    "#找到最好的模型训练 X_train,y_train\n",
    "RF=best_model\n",
    "#RF = RandomForestClassifier(n_estimators=98, random_state=0)\n",
    "#RF = RandomForestClassifier()\n",
    "RF.fit(X_train,y_train)"
   ]
  },
  {
   "cell_type": "code",
   "execution_count": 539,
   "metadata": {
    "ExecuteTime": {
     "end_time": "2020-11-15T07:29:52.444692Z",
     "start_time": "2020-11-15T07:29:52.404093Z"
    },
    "hidden": true
   },
   "outputs": [
    {
     "name": "stdout",
     "output_type": "stream",
     "text": [
      "[[1892    0]\n",
      " [   0 1259]]\n",
      "Sensitivity = 1.0\n",
      "Specificity = 1.0\n",
      "Precision = 1.0\n",
      "Accuracy = 1.0\n"
     ]
    }
   ],
   "source": [
    "#训练数据的 混淆矩阵\n",
    "predictions = RF.predict(X_train)\n",
    "\n",
    "cm = confusion_matrix(y_train, predictions, labels=[0,1])\n",
    "print(cm)\n",
    "TN, FP, FN, TP = cm.ravel()\n",
    "\n",
    "# SENSITIVITY = TP / (TP + FN)\n",
    "Sensitivity = TP / (TP + FN)\n",
    "print(\"Sensitivity = \"+ str(Sensitivity))\n",
    "\n",
    "# SPECIFICITY = TN / (FP + TN)\n",
    "Specificity = TN / (FP + TN)\n",
    "print(\"Specificity = \"+ str(Specificity))\n",
    "\n",
    "# Precision = TP / (TP + FP)\n",
    "Precision = TP / (TP + FP)\n",
    "print(\"Precision = \"+ str(Precision))\n",
    "\n",
    "# Accuracy = (TP + TN) / (TP + FP + TN + FN)\n",
    "Accuracy = (TP + TN) / (TP + FP + TN + FN)\n",
    "print(\"Accuracy = \"+ str(Accuracy))"
   ]
  },
  {
   "cell_type": "code",
   "execution_count": 540,
   "metadata": {
    "ExecuteTime": {
     "end_time": "2020-11-15T07:29:52.472069Z",
     "start_time": "2020-11-15T07:29:52.446690Z"
    },
    "hidden": true
   },
   "outputs": [
    {
     "name": "stdout",
     "output_type": "stream",
     "text": [
      "[[794  16]\n",
      " [ 13 526]]\n",
      "Sensitivity = 0.9758812615955473\n",
      "Specificity = 0.980246913580247\n",
      "Precision = 0.9704797047970479\n",
      "Accuracy = 0.9785025945144552\n"
     ]
    }
   ],
   "source": [
    "#测试数据的 混淆矩阵\n",
    "predictions = RF.predict(X_test)\n",
    "\n",
    "cm = confusion_matrix(y_test, predictions, labels=[0,1])\n",
    "print(cm)\n",
    "TN, FP, FN, TP = cm.ravel()\n",
    "# SENSITIVITY = TP / (TP + FN)\n",
    "Sensitivity = TP / (TP + FN)\n",
    "print(\"Sensitivity = \"+ str(Sensitivity))\n",
    "\n",
    "# SPECIFICITY = TN / (FP + TN)\n",
    "Specificity = TN / (FP + TN)\n",
    "print(\"Specificity = \"+ str(Specificity))\n",
    "\n",
    "# Precision = TP / (TP + FP)\n",
    "Precision = TP / (TP + FP)\n",
    "print(\"Precision = \"+ str(Precision))\n",
    "\n",
    "# Accuracy = (TP + TN) / (TP + FP + TN + FN)\n",
    "Accuracy = (TP + TN) / (TP + FP + TN + FN)\n",
    "print(\"Accuracy = \"+ str(Accuracy))"
   ]
  },
  {
   "cell_type": "code",
   "execution_count": 541,
   "metadata": {
    "ExecuteTime": {
     "end_time": "2020-11-15T07:30:54.696232Z",
     "start_time": "2020-11-15T07:30:54.652249Z"
    },
    "hidden": true
   },
   "outputs": [
    {
     "data": {
      "text/plain": [
       "['RF_2.pkl']"
      ]
     },
     "execution_count": 541,
     "metadata": {},
     "output_type": "execute_result"
    }
   ],
   "source": [
    "#joblib.dump(RF,'RF_2.pkl')"
   ]
  },
  {
   "cell_type": "markdown",
   "metadata": {
    "heading_collapsed": true
   },
   "source": [
    "#31维特征,添加了pitch"
   ]
  },
  {
   "cell_type": "code",
   "execution_count": 9,
   "metadata": {
    "ExecuteTime": {
     "end_time": "2020-11-17T05:38:44.494300Z",
     "start_time": "2020-11-17T05:38:44.376271Z"
    },
    "hidden": true
   },
   "outputs": [
    {
     "name": "stdout",
     "output_type": "stream",
     "text": [
      "Total ADL: 2702\n",
      "Total Falls: 1798\n",
      "Train Falls: 1259\n",
      "Train ADL: 1892\n",
      "Test Falls: 539\n",
      "Test ADL: 810\n"
     ]
    }
   ],
   "source": [
    "df=pd.read_csv('all_data.csv')\n",
    "cols=['label', 'max_Ax', 'min_Ax', 'range_Ax', 'kurtosis_Ax', 'skewness_Ax',\n",
    "       'max_Ay', 'min_Ay', 'range_Ay', 'kurtosis_Ay', 'skewness_Ay', 'max_Az',\n",
    "       'min_Az', 'range_Az', 'kurtosis_Az', 'skewness_Az', 'max_SVM',\n",
    "       'range_SVM', 'kurtosis_SVM', 'skewness_SVM', 'max_HOR', 'range_HOR',\n",
    "       'kurtosis_HOR', 'skewness_HOR', 'max_VER', 'range_VER', 'kurtosis_VER',\n",
    "       'skewness_VER','max_pitch','min_pitch','var_pitch','mean_pitch']\n",
    "\n",
    "df=df[cols]\n",
    "\n",
    "adl_df=df[df['label']==0]\n",
    "fall_df=df[df['label']==1]\n",
    "\n",
    "random_indices = permutation(adl_df.index)  #随机打乱index,得到的是一个index的序列\n",
    "test_split = math.floor(len(adl_df)*0.3)  #math.floor() 向下取整\n",
    "\n",
    "# len(random_indices)\n",
    "adl_df_test = adl_df.loc[random_indices[0:test_split]]\n",
    "# Train set with 70% of the items.\n",
    "adl_df_train = adl_df.loc[random_indices[test_split:]]\n",
    "\n",
    "# Now we prepare the sets of Falls\n",
    "random_indices = permutation(fall_df.index)\n",
    "test_split = math.floor(len(fall_df)*0.3)\n",
    "\n",
    "fall_df_test = fall_df.loc[random_indices[0:test_split]]\n",
    "fall_df_train = fall_df.loc[random_indices[test_split:]]\n",
    "\n",
    "print(\"Total ADL: \" + str(len(adl_df)))\n",
    "print(\"Total Falls: \" + str(len(fall_df)))\n",
    "print(\"Train Falls: \"+ str(len(fall_df_train)))\n",
    "print(\"Train ADL: \"+ str(len(adl_df_train)))\n",
    "print(\"Test Falls: \"+ str(len(fall_df_test)))\n",
    "print(\"Test ADL: \"+ str(len(adl_df_test)))\n",
    "\n",
    "#test_data\n",
    "frames = [adl_df_test, fall_df_test]\n",
    "test_data = pd.concat(frames) #默认axis=0\n",
    "\n",
    "#train_data\n",
    "frames = [adl_df_train, fall_df_train]\n",
    "train_data = pd.concat(frames) #默认axis=0\n",
    "\n",
    "#train_data.describe()\n",
    "y_train=train_data.label\n",
    "X_train=train_data.drop('label',axis=1)\n",
    "\n",
    "y_test=test_data.label\n",
    "X_test=test_data.drop('label',axis=1)"
   ]
  },
  {
   "cell_type": "code",
   "execution_count": 10,
   "metadata": {
    "ExecuteTime": {
     "end_time": "2020-11-17T05:44:04.621392Z",
     "start_time": "2020-11-17T05:38:46.178085Z"
    },
    "hidden": true
   },
   "outputs": [
    {
     "name": "stderr",
     "output_type": "stream",
     "text": [
      "100%|████████████████████████████████████████████████████████████████████████████████| 100/100 [05:18<00:00,  3.18s/it]\n"
     ]
    },
    {
     "data": {
      "text/plain": [
       "<Figure size 432x288 with 0 Axes>"
      ]
     },
     "execution_count": 10,
     "metadata": {},
     "output_type": "execute_result"
    },
    {
     "data": {
      "text/plain": [
       "[<matplotlib.lines.Line2D at 0x1817b5272c8>]"
      ]
     },
     "execution_count": 10,
     "metadata": {},
     "output_type": "execute_result"
    },
    {
     "data": {
      "text/plain": [
       "<matplotlib.legend.Legend at 0x1817b51e288>"
      ]
     },
     "execution_count": 10,
     "metadata": {},
     "output_type": "execute_result"
    },
    {
     "data": {
      "text/plain": [
       "Text(0.5, 0, 'number of n_estimators')"
      ]
     },
     "execution_count": 10,
     "metadata": {},
     "output_type": "execute_result"
    },
    {
     "data": {
      "text/plain": [
       "Text(0, 0.5, 'val_Accuracy')"
      ]
     },
     "execution_count": 10,
     "metadata": {},
     "output_type": "execute_result"
    },
    {
     "data": {
      "image/png": "[encoded data removed]",
      "text/plain": [
       "<Figure size 432x288 with 1 Axes>"
      ]
     },
     "metadata": {
      "needs_background": "light"
     },
     "output_type": "display_data"
    },
    {
     "name": "stdout",
     "output_type": "stream",
     "text": [
      "best val Accuracy: 0.9834990574476989\n",
      "RandomForestClassifier(bootstrap=True, class_weight=None, criterion='gini',\n",
      "            max_depth=None, max_features='auto', max_leaf_nodes=None,\n",
      "            min_impurity_decrease=0.0, min_impurity_split=None,\n",
      "            min_samples_leaf=1, min_samples_split=2,\n",
      "            min_weight_fraction_leaf=0.0, n_estimators=29, n_jobs=None,\n",
      "            oob_score=False, random_state=0, verbose=0, warm_start=False)\n"
     ]
    }
   ],
   "source": [
    "val_accuracy = []  #交叉验证得分\n",
    "bestAcc = 0.0  #最好的模型的交叉验证得分\n",
    "best_model=None\n",
    "xList=np.arange(1,101)\n",
    "for n in tqdm(xList):\n",
    "    forest = RandomForestClassifier(n_estimators=n, random_state=0)\n",
    "    #交叉验证的精确度\n",
    "    s=np.mean(cross_val_score(forest, X_train, y_train, cv=10))\n",
    "    val_accuracy.append(s)\n",
    "    if s>bestAcc:\n",
    "        bestAcc=s\n",
    "        best_model=forest\n",
    "        \n",
    "plt.figure()\n",
    "plt.plot(xList,val_accuracy,label='val_accuracy')\n",
    "plt.legend()\n",
    "plt.xlabel('number of n_estimators')\n",
    "plt.ylabel('val_Accuracy')\n",
    "plt.show();\n",
    "\n",
    "print('best val Accuracy:',bestAcc)\n",
    "print(best_model)"
   ]
  },
  {
   "cell_type": "code",
   "execution_count": 11,
   "metadata": {
    "ExecuteTime": {
     "end_time": "2020-11-17T05:44:04.853277Z",
     "start_time": "2020-11-17T05:44:04.623392Z"
    },
    "hidden": true
   },
   "outputs": [
    {
     "data": {
      "text/plain": [
       "RandomForestClassifier(bootstrap=True, class_weight=None, criterion='gini',\n",
       "            max_depth=None, max_features='auto', max_leaf_nodes=None,\n",
       "            min_impurity_decrease=0.0, min_impurity_split=None,\n",
       "            min_samples_leaf=1, min_samples_split=2,\n",
       "            min_weight_fraction_leaf=0.0, n_estimators=29, n_jobs=None,\n",
       "            oob_score=False, random_state=0, verbose=0, warm_start=False)"
      ]
     },
     "execution_count": 11,
     "metadata": {},
     "output_type": "execute_result"
    }
   ],
   "source": [
    "#找到最好的模型训练 X_train,y_train\n",
    "RF=best_model\n",
    "#RF = RandomForestClassifier(n_estimators=98, random_state=0)\n",
    "#RF = RandomForestClassifier()\n",
    "RF.fit(X_train,y_train)"
   ]
  },
  {
   "cell_type": "code",
   "execution_count": 12,
   "metadata": {
    "ExecuteTime": {
     "end_time": "2020-11-17T05:44:04.897233Z",
     "start_time": "2020-11-17T05:44:04.855259Z"
    },
    "hidden": true
   },
   "outputs": [
    {
     "name": "stdout",
     "output_type": "stream",
     "text": [
      "[[1892    0]\n",
      " [   0 1259]]\n",
      "Sensitivity = 1.0\n",
      "Specificity = 1.0\n",
      "Precision = 1.0\n",
      "Accuracy = 1.0\n"
     ]
    }
   ],
   "source": [
    "#训练数据的 混淆矩阵\n",
    "predictions = RF.predict(X_train)\n",
    "\n",
    "cm = confusion_matrix(y_train, predictions, labels=[0,1])\n",
    "print(cm)\n",
    "TN, FP, FN, TP = cm.ravel()\n",
    "\n",
    "# SENSITIVITY = TP / (TP + FN)\n",
    "Sensitivity = TP / (TP + FN)\n",
    "print(\"Sensitivity = \"+ str(Sensitivity))\n",
    "\n",
    "# SPECIFICITY = TN / (FP + TN)\n",
    "Specificity = TN / (FP + TN)\n",
    "print(\"Specificity = \"+ str(Specificity))\n",
    "\n",
    "# Precision = TP / (TP + FP)\n",
    "Precision = TP / (TP + FP)\n",
    "print(\"Precision = \"+ str(Precision))\n",
    "\n",
    "# Accuracy = (TP + TN) / (TP + FP + TN + FN)\n",
    "Accuracy = (TP + TN) / (TP + FP + TN + FN)\n",
    "print(\"Accuracy = \"+ str(Accuracy))"
   ]
  },
  {
   "cell_type": "code",
   "execution_count": 13,
   "metadata": {
    "ExecuteTime": {
     "end_time": "2020-11-17T05:44:04.933215Z",
     "start_time": "2020-11-17T05:44:04.900231Z"
    },
    "hidden": true
   },
   "outputs": [
    {
     "name": "stdout",
     "output_type": "stream",
     "text": [
      "[[804   6]\n",
      " [ 17 522]]\n",
      "Sensitivity = 0.9684601113172542\n",
      "Specificity = 0.9925925925925926\n",
      "Precision = 0.9886363636363636\n",
      "Accuracy = 0.9829503335804299\n"
     ]
    }
   ],
   "source": [
    "#测试数据的 混淆矩阵\n",
    "predictions = RF.predict(X_test)\n",
    "\n",
    "cm = confusion_matrix(y_test, predictions, labels=[0,1])\n",
    "print(cm)\n",
    "TN, FP, FN, TP = cm.ravel()\n",
    "# SENSITIVITY = TP / (TP + FN)\n",
    "Sensitivity = TP / (TP + FN)\n",
    "print(\"Sensitivity = \"+ str(Sensitivity))\n",
    "\n",
    "# SPECIFICITY = TN / (FP + TN)\n",
    "Specificity = TN / (FP + TN)\n",
    "print(\"Specificity = \"+ str(Specificity))\n",
    "\n",
    "# Precision = TP / (TP + FP)\n",
    "Precision = TP / (TP + FP)\n",
    "print(\"Precision = \"+ str(Precision))\n",
    "\n",
    "# Accuracy = (TP + TN) / (TP + FP + TN + FN)\n",
    "Accuracy = (TP + TN) / (TP + FP + TN + FN)\n",
    "print(\"Accuracy = \"+ str(Accuracy))"
   ]
  },
  {
   "cell_type": "code",
   "execution_count": 14,
   "metadata": {
    "ExecuteTime": {
     "end_time": "2020-11-17T05:44:04.957200Z",
     "start_time": "2020-11-17T05:44:04.937212Z"
    },
    "hidden": true,
    "scrolled": true
   },
   "outputs": [
    {
     "data": {
      "text/html": [
       "<div>\n",
       "<style scoped>\n",
       "    .dataframe tbody tr th:only-of-type {\n",
       "        vertical-align: middle;\n",
       "    }\n",
       "\n",
       "    .dataframe tbody tr th {\n",
       "        vertical-align: top;\n",
       "    }\n",
       "\n",
       "    .dataframe thead th {\n",
       "        text-align: right;\n",
       "    }\n",
       "</style>\n",
       "<table border=\"1\" class=\"dataframe\">\n",
       "  <thead>\n",
       "    <tr style=\"text-align: right;\">\n",
       "      <th></th>\n",
       "      <th>feature</th>\n",
       "      <th>importance</th>\n",
       "    </tr>\n",
       "  </thead>\n",
       "  <tbody>\n",
       "    <tr>\n",
       "      <th>23</th>\n",
       "      <td>max_VER</td>\n",
       "      <td>0.163483</td>\n",
       "    </tr>\n",
       "    <tr>\n",
       "      <th>2</th>\n",
       "      <td>range_Ax</td>\n",
       "      <td>0.118547</td>\n",
       "    </tr>\n",
       "    <tr>\n",
       "      <th>18</th>\n",
       "      <td>skewness_SVM</td>\n",
       "      <td>0.110174</td>\n",
       "    </tr>\n",
       "    <tr>\n",
       "      <th>24</th>\n",
       "      <td>range_VER</td>\n",
       "      <td>0.094066</td>\n",
       "    </tr>\n",
       "    <tr>\n",
       "      <th>17</th>\n",
       "      <td>kurtosis_SVM</td>\n",
       "      <td>0.088257</td>\n",
       "    </tr>\n",
       "    <tr>\n",
       "      <th>5</th>\n",
       "      <td>max_Ay</td>\n",
       "      <td>0.070623</td>\n",
       "    </tr>\n",
       "    <tr>\n",
       "      <th>12</th>\n",
       "      <td>range_Az</td>\n",
       "      <td>0.037526</td>\n",
       "    </tr>\n",
       "    <tr>\n",
       "      <th>7</th>\n",
       "      <td>range_Ay</td>\n",
       "      <td>0.036783</td>\n",
       "    </tr>\n",
       "    <tr>\n",
       "      <th>1</th>\n",
       "      <td>min_Ax</td>\n",
       "      <td>0.031735</td>\n",
       "    </tr>\n",
       "    <tr>\n",
       "      <th>15</th>\n",
       "      <td>max_SVM</td>\n",
       "      <td>0.028720</td>\n",
       "    </tr>\n",
       "    <tr>\n",
       "      <th>16</th>\n",
       "      <td>range_SVM</td>\n",
       "      <td>0.024228</td>\n",
       "    </tr>\n",
       "    <tr>\n",
       "      <th>3</th>\n",
       "      <td>kurtosis_Ax</td>\n",
       "      <td>0.023845</td>\n",
       "    </tr>\n",
       "    <tr>\n",
       "      <th>6</th>\n",
       "      <td>min_Ay</td>\n",
       "      <td>0.019226</td>\n",
       "    </tr>\n",
       "    <tr>\n",
       "      <th>13</th>\n",
       "      <td>kurtosis_Az</td>\n",
       "      <td>0.017621</td>\n",
       "    </tr>\n",
       "    <tr>\n",
       "      <th>0</th>\n",
       "      <td>max_Ax</td>\n",
       "      <td>0.017069</td>\n",
       "    </tr>\n",
       "    <tr>\n",
       "      <th>21</th>\n",
       "      <td>kurtosis_HOR</td>\n",
       "      <td>0.012892</td>\n",
       "    </tr>\n",
       "    <tr>\n",
       "      <th>9</th>\n",
       "      <td>skewness_Ay</td>\n",
       "      <td>0.012220</td>\n",
       "    </tr>\n",
       "    <tr>\n",
       "      <th>20</th>\n",
       "      <td>range_HOR</td>\n",
       "      <td>0.010272</td>\n",
       "    </tr>\n",
       "    <tr>\n",
       "      <th>25</th>\n",
       "      <td>kurtosis_VER</td>\n",
       "      <td>0.009885</td>\n",
       "    </tr>\n",
       "    <tr>\n",
       "      <th>14</th>\n",
       "      <td>skewness_Az</td>\n",
       "      <td>0.009787</td>\n",
       "    </tr>\n",
       "    <tr>\n",
       "      <th>27</th>\n",
       "      <td>max_pitch</td>\n",
       "      <td>0.007584</td>\n",
       "    </tr>\n",
       "    <tr>\n",
       "      <th>11</th>\n",
       "      <td>min_Az</td>\n",
       "      <td>0.007408</td>\n",
       "    </tr>\n",
       "    <tr>\n",
       "      <th>26</th>\n",
       "      <td>skewness_VER</td>\n",
       "      <td>0.007364</td>\n",
       "    </tr>\n",
       "    <tr>\n",
       "      <th>29</th>\n",
       "      <td>var_pitch</td>\n",
       "      <td>0.006675</td>\n",
       "    </tr>\n",
       "    <tr>\n",
       "      <th>10</th>\n",
       "      <td>max_Az</td>\n",
       "      <td>0.006155</td>\n",
       "    </tr>\n",
       "    <tr>\n",
       "      <th>19</th>\n",
       "      <td>max_HOR</td>\n",
       "      <td>0.005651</td>\n",
       "    </tr>\n",
       "    <tr>\n",
       "      <th>8</th>\n",
       "      <td>kurtosis_Ay</td>\n",
       "      <td>0.005538</td>\n",
       "    </tr>\n",
       "    <tr>\n",
       "      <th>30</th>\n",
       "      <td>mean_pitch</td>\n",
       "      <td>0.005364</td>\n",
       "    </tr>\n",
       "    <tr>\n",
       "      <th>4</th>\n",
       "      <td>skewness_Ax</td>\n",
       "      <td>0.004770</td>\n",
       "    </tr>\n",
       "    <tr>\n",
       "      <th>22</th>\n",
       "      <td>skewness_HOR</td>\n",
       "      <td>0.004743</td>\n",
       "    </tr>\n",
       "    <tr>\n",
       "      <th>28</th>\n",
       "      <td>min_pitch</td>\n",
       "      <td>0.001790</td>\n",
       "    </tr>\n",
       "  </tbody>\n",
       "</table>\n",
       "</div>"
      ],
      "text/plain": [
       "         feature  importance\n",
       "23       max_VER    0.163483\n",
       "2       range_Ax    0.118547\n",
       "18  skewness_SVM    0.110174\n",
       "24     range_VER    0.094066\n",
       "17  kurtosis_SVM    0.088257\n",
       "5         max_Ay    0.070623\n",
       "12      range_Az    0.037526\n",
       "7       range_Ay    0.036783\n",
       "1         min_Ax    0.031735\n",
       "15       max_SVM    0.028720\n",
       "16     range_SVM    0.024228\n",
       "3    kurtosis_Ax    0.023845\n",
       "6         min_Ay    0.019226\n",
       "13   kurtosis_Az    0.017621\n",
       "0         max_Ax    0.017069\n",
       "21  kurtosis_HOR    0.012892\n",
       "9    skewness_Ay    0.012220\n",
       "20     range_HOR    0.010272\n",
       "25  kurtosis_VER    0.009885\n",
       "14   skewness_Az    0.009787\n",
       "27     max_pitch    0.007584\n",
       "11        min_Az    0.007408\n",
       "26  skewness_VER    0.007364\n",
       "29     var_pitch    0.006675\n",
       "10        max_Az    0.006155\n",
       "19       max_HOR    0.005651\n",
       "8    kurtosis_Ay    0.005538\n",
       "30    mean_pitch    0.005364\n",
       "4    skewness_Ax    0.004770\n",
       "22  skewness_HOR    0.004743\n",
       "28     min_pitch    0.001790"
      ]
     },
     "execution_count": 14,
     "metadata": {},
     "output_type": "execute_result"
    }
   ],
   "source": [
    "#RF.feature_importances_\n",
    "FI=pd.DataFrame()\n",
    "FI['feature']=X_train.columns\n",
    "FI['importance']=RF.feature_importances_\n",
    "FI=FI.sort_values(by='importance',ascending=False)\n",
    "FI"
   ]
  },
  {
   "cell_type": "code",
   "execution_count": null,
   "metadata": {
    "hidden": true
   },
   "outputs": [],
   "source": [
    "#joblib.dump(RF,'RF_4.pkl')"
   ]
  },
  {
   "cell_type": "markdown",
   "metadata": {
    "heading_collapsed": true
   },
   "source": [
    "#60个特征值"
   ]
  },
  {
   "cell_type": "code",
   "execution_count": 560,
   "metadata": {
    "ExecuteTime": {
     "end_time": "2020-11-15T07:32:22.451067Z",
     "start_time": "2020-11-15T07:32:22.334305Z"
    },
    "hidden": true
   },
   "outputs": [
    {
     "name": "stdout",
     "output_type": "stream",
     "text": [
      "Total ADL: 2702\n",
      "Total Falls: 1798\n",
      "Train Falls: 1259\n",
      "Train ADL: 1892\n",
      "Test Falls: 539\n",
      "Test ADL: 810\n"
     ]
    }
   ],
   "source": [
    "df=pd.read_csv('all_data.csv')\n",
    "df.drop('MAC',axis=1,inplace=True)\n",
    "\n",
    "adl_df=df[df['label']==0]\n",
    "fall_df=df[df['label']==1]\n",
    "random_indices = permutation(adl_df.index)  #随机打乱index,得到的是一个index的序列\n",
    "test_split = math.floor(len(adl_df)*0.3)  #math.floor() 向下取整\n",
    "\n",
    "# len(random_indices)\n",
    "adl_df_test = adl_df.loc[random_indices[0:test_split]]\n",
    "# Train set with 70% of the items.\n",
    "adl_df_train = adl_df.loc[random_indices[test_split:]]\n",
    "\n",
    "# Now we prepare the sets of Falls\n",
    "random_indices = permutation(fall_df.index)\n",
    "test_split = math.floor(len(fall_df)*0.3)\n",
    "\n",
    "fall_df_test = fall_df.loc[random_indices[0:test_split]]\n",
    "fall_df_train = fall_df.loc[random_indices[test_split:]]\n",
    "\n",
    "print(\"Total ADL: \" + str(len(adl_df)))\n",
    "print(\"Total Falls: \" + str(len(fall_df)))\n",
    "print(\"Train Falls: \"+ str(len(fall_df_train)))\n",
    "print(\"Train ADL: \"+ str(len(adl_df_train)))\n",
    "print(\"Test Falls: \"+ str(len(fall_df_test)))\n",
    "print(\"Test ADL: \"+ str(len(adl_df_test)))\n",
    "\n",
    "#test_data\n",
    "frames = [adl_df_test, fall_df_test]\n",
    "test_data = pd.concat(frames) #默认axis=0\n",
    "\n",
    "#train_data\n",
    "frames = [adl_df_train, fall_df_train]\n",
    "train_data = pd.concat(frames) #默认axis=0\n",
    "\n",
    "#train_data.describe()\n",
    "y_train=train_data.label\n",
    "X_train=train_data.drop('label',axis=1)\n",
    "\n",
    "y_test=test_data.label\n",
    "X_test=test_data.drop('label',axis=1)"
   ]
  },
  {
   "cell_type": "code",
   "execution_count": 561,
   "metadata": {
    "ExecuteTime": {
     "end_time": "2020-11-15T07:40:15.544870Z",
     "start_time": "2020-11-15T07:32:23.750796Z"
    },
    "hidden": true
   },
   "outputs": [
    {
     "name": "stderr",
     "output_type": "stream",
     "text": [
      "100%|████████████████████████████████████████████████████████████████████████████████| 100/100 [07:51<00:00,  4.72s/it]\n"
     ]
    },
    {
     "data": {
      "text/plain": [
       "<Figure size 432x288 with 0 Axes>"
      ]
     },
     "execution_count": 561,
     "metadata": {},
     "output_type": "execute_result"
    },
    {
     "data": {
      "text/plain": [
       "[<matplotlib.lines.Line2D at 0x2a5fc426308>]"
      ]
     },
     "execution_count": 561,
     "metadata": {},
     "output_type": "execute_result"
    },
    {
     "data": {
      "text/plain": [
       "<matplotlib.legend.Legend at 0x2a5fe3a08c8>"
      ]
     },
     "execution_count": 561,
     "metadata": {},
     "output_type": "execute_result"
    },
    {
     "data": {
      "text/plain": [
       "Text(0.5, 0, 'number of n_estimators')"
      ]
     },
     "execution_count": 561,
     "metadata": {},
     "output_type": "execute_result"
    },
    {
     "data": {
      "text/plain": [
       "Text(0, 0.5, 'val_Accuracy')"
      ]
     },
     "execution_count": 561,
     "metadata": {},
     "output_type": "execute_result"
    },
    {
     "data": {
      "image/png": "[encoded data removed]",
      "text/plain": [
       "<Figure size 432x288 with 1 Axes>"
      ]
     },
     "metadata": {
      "needs_background": "light"
     },
     "output_type": "display_data"
    },
    {
     "name": "stdout",
     "output_type": "stream",
     "text": [
      "best val Accuracy: 0.9930178694606656\n",
      "RandomForestClassifier(bootstrap=True, class_weight=None, criterion='gini',\n",
      "            max_depth=None, max_features='auto', max_leaf_nodes=None,\n",
      "            min_impurity_decrease=0.0, min_impurity_split=None,\n",
      "            min_samples_leaf=1, min_samples_split=2,\n",
      "            min_weight_fraction_leaf=0.0, n_estimators=20, n_jobs=None,\n",
      "            oob_score=False, random_state=0, verbose=0, warm_start=False)\n"
     ]
    }
   ],
   "source": [
    "val_accuracy = []  #交叉验证得分\n",
    "bestAcc = 0.0  #最好的模型的交叉验证得分\n",
    "best_model=None\n",
    "xList=np.arange(1,101)\n",
    "for n in tqdm(xList):\n",
    "    forest = RandomForestClassifier(n_estimators=n, random_state=0)\n",
    "    #交叉验证的精确度\n",
    "    s=np.mean(cross_val_score(forest, X_train, y_train, cv=10))\n",
    "    val_accuracy.append(s)\n",
    "    if s>bestAcc:\n",
    "        bestAcc=s\n",
    "        best_model=forest\n",
    "        \n",
    "plt.figure()\n",
    "plt.plot(xList,val_accuracy,label='val_accuracy')\n",
    "plt.legend()\n",
    "plt.xlabel('number of n_estimators')\n",
    "plt.ylabel('val_Accuracy')\n",
    "plt.show();\n",
    "\n",
    "print('best val Accuracy:',bestAcc)\n",
    "print(best_model)"
   ]
  },
  {
   "cell_type": "code",
   "execution_count": 562,
   "metadata": {
    "ExecuteTime": {
     "end_time": "2020-11-15T07:40:15.786518Z",
     "start_time": "2020-11-15T07:40:15.547869Z"
    },
    "hidden": true
   },
   "outputs": [
    {
     "data": {
      "text/plain": [
       "RandomForestClassifier(bootstrap=True, class_weight=None, criterion='gini',\n",
       "            max_depth=None, max_features='auto', max_leaf_nodes=None,\n",
       "            min_impurity_decrease=0.0, min_impurity_split=None,\n",
       "            min_samples_leaf=1, min_samples_split=2,\n",
       "            min_weight_fraction_leaf=0.0, n_estimators=20, n_jobs=None,\n",
       "            oob_score=False, random_state=0, verbose=0, warm_start=False)"
      ]
     },
     "execution_count": 562,
     "metadata": {},
     "output_type": "execute_result"
    }
   ],
   "source": [
    "RF=best_model\n",
    "#RF = RandomForestClassifier()\n",
    "#RF = RandomForestClassifier(n_estimators=35, random_state=0)\n",
    "RF.fit(X_train,y_train)"
   ]
  },
  {
   "cell_type": "code",
   "execution_count": 563,
   "metadata": {
    "ExecuteTime": {
     "end_time": "2020-11-15T07:40:15.832921Z",
     "start_time": "2020-11-15T07:40:15.791515Z"
    },
    "hidden": true
   },
   "outputs": [
    {
     "name": "stdout",
     "output_type": "stream",
     "text": [
      "[[1892    0]\n",
      " [   0 1259]]\n",
      "Sensitivity = 1.0\n",
      "Specificity = 1.0\n",
      "Precision = 1.0\n",
      "Accuracy = 1.0\n"
     ]
    }
   ],
   "source": [
    "#训练数据的 混淆矩阵\n",
    "predictions = RF.predict(X_train)\n",
    "\n",
    "cm = confusion_matrix(y_train, predictions, labels=[0,1])\n",
    "print(cm)\n",
    "TN, FP, FN, TP = cm.ravel()\n",
    "\n",
    "# SENSITIVITY = TP / (TP + FN)\n",
    "Sensitivity = TP / (TP + FN)\n",
    "print(\"Sensitivity = \"+ str(Sensitivity))\n",
    "\n",
    "# SPECIFICITY = TN / (FP + TN)\n",
    "Specificity = TN / (FP + TN)\n",
    "print(\"Specificity = \"+ str(Specificity))\n",
    "\n",
    "# Precision = TP / (TP + FP)\n",
    "Precision = TP / (TP + FP)\n",
    "print(\"Precision = \"+ str(Precision))\n",
    "\n",
    "# Accuracy = (TP + TN) / (TP + FP + TN + FN)\n",
    "Accuracy = (TP + TN) / (TP + FP + TN + FN)\n",
    "print(\"Accuracy = \"+ str(Accuracy))"
   ]
  },
  {
   "cell_type": "code",
   "execution_count": 564,
   "metadata": {
    "ExecuteTime": {
     "end_time": "2020-11-15T07:40:15.863245Z",
     "start_time": "2020-11-15T07:40:15.834920Z"
    },
    "hidden": true
   },
   "outputs": [
    {
     "name": "stdout",
     "output_type": "stream",
     "text": [
      "[[808   2]\n",
      " [ 10 529]]\n",
      "Sensitivity = 0.9814471243042672\n",
      "Specificity = 0.9975308641975309\n",
      "Precision = 0.9962335216572504\n",
      "Accuracy = 0.9911045218680504\n"
     ]
    }
   ],
   "source": [
    "#测试数据的 混淆矩阵\n",
    "predictions = RF.predict(X_test)\n",
    "\n",
    "cm = confusion_matrix(y_test, predictions, labels=[0,1])\n",
    "print(cm)\n",
    "TN, FP, FN, TP = cm.ravel()\n",
    "\n",
    "# SENSITIVITY = TP / (TP + FN)\n",
    "Sensitivity = TP / (TP + FN)\n",
    "print(\"Sensitivity = \"+ str(Sensitivity))\n",
    "\n",
    "# SPECIFICITY = TN / (FP + TN)\n",
    "Specificity = TN / (FP + TN)\n",
    "print(\"Specificity = \"+ str(Specificity))\n",
    "\n",
    "# Precision = TP / (TP + FP)\n",
    "Precision = TP / (TP + FP)\n",
    "print(\"Precision = \"+ str(Precision))\n",
    "\n",
    "# Accuracy = (TP + TN) / (TP + FP + TN + FN)\n",
    "Accuracy = (TP + TN) / (TP + FP + TN + FN)\n",
    "print(\"Accuracy = \"+ str(Accuracy))"
   ]
  },
  {
   "cell_type": "markdown",
   "metadata": {
    "hidden": true
   },
   "source": [
    "树莓派采集数据验证"
   ]
  },
  {
   "cell_type": "code",
   "execution_count": 521,
   "metadata": {
    "ExecuteTime": {
     "end_time": "2020-11-15T07:09:01.076479Z",
     "start_time": "2020-11-15T07:09:00.947947Z"
    },
    "hidden": true,
    "scrolled": true
   },
   "outputs": [
    {
     "name": "stdout",
     "output_type": "stream",
     "text": [
      "[[289  36]\n",
      " [ 20  85]]\n",
      "Sensitivity = 0.8095238095238095\n",
      "Specificity = 0.8892307692307693\n",
      "Precision = 0.7024793388429752\n",
      "Accuracy = 0.8697674418604651\n"
     ]
    }
   ],
   "source": [
    "# data=pd.read_csv(r'D:\\jupyter_work\\基于树莓派的跌倒检测系统\\all_data.csv')\n",
    "# df.drop(['mac_SVM','File'],axis=1,inplace=True)\n",
    "# y=data['label']\n",
    "# X=data.drop(['File','label'],axis=1)\n",
    "\n",
    "# predictions = RF.predict(X)\n",
    "# cm = confusion_matrix(y, predictions, labels=[0,1])\n",
    "# print(cm)\n",
    "# TN, FP, FN, TP = cm.ravel()\n",
    "\n",
    "# # SENSITIVITY = TP / (TP + FN)\n",
    "# Sensitivity = TP / (TP + FN)\n",
    "# print(\"Sensitivity = \"+ str(Sensitivity))\n",
    "\n",
    "# # SPECIFICITY = TN / (FP + TN)\n",
    "# Specificity = TN / (FP + TN)\n",
    "# print(\"Specificity = \"+ str(Specificity))\n",
    "\n",
    "# # Precision = TP / (TP + FP)\n",
    "# Precision = TP / (TP + FP)\n",
    "# print(\"Precision = \"+ str(Precision))\n",
    "\n",
    "# # Accuracy = (TP + TN) / (TP + FP + TN + FN)\n",
    "# Accuracy = (TP + TN) / (TP + FP + TN + FN)\n",
    "# print(\"Accuracy = \"+ str(Accuracy))"
   ]
  },
  {
   "cell_type": "code",
   "execution_count": 427,
   "metadata": {
    "ExecuteTime": {
     "end_time": "2020-11-15T05:57:44.705793Z",
     "start_time": "2020-11-15T05:57:44.676810Z"
    },
    "hidden": true
   },
   "outputs": [
    {
     "data": {
      "text/html": [
       "<div>\n",
       "<style scoped>\n",
       "    .dataframe tbody tr th:only-of-type {\n",
       "        vertical-align: middle;\n",
       "    }\n",
       "\n",
       "    .dataframe tbody tr th {\n",
       "        vertical-align: top;\n",
       "    }\n",
       "\n",
       "    .dataframe thead th {\n",
       "        text-align: right;\n",
       "    }\n",
       "</style>\n",
       "<table border=\"1\" class=\"dataframe\">\n",
       "  <thead>\n",
       "    <tr style=\"text-align: right;\">\n",
       "      <th></th>\n",
       "      <th>feature</th>\n",
       "      <th>importance</th>\n",
       "    </tr>\n",
       "  </thead>\n",
       "  <tbody>\n",
       "    <tr>\n",
       "      <th>49</th>\n",
       "      <td>max_VER</td>\n",
       "      <td>0.099291</td>\n",
       "    </tr>\n",
       "    <tr>\n",
       "      <th>27</th>\n",
       "      <td>var_SVM</td>\n",
       "      <td>0.080340</td>\n",
       "    </tr>\n",
       "    <tr>\n",
       "      <th>13</th>\n",
       "      <td>max_Ay</td>\n",
       "      <td>0.079426</td>\n",
       "    </tr>\n",
       "    <tr>\n",
       "      <th>51</th>\n",
       "      <td>range_VER</td>\n",
       "      <td>0.070773</td>\n",
       "    </tr>\n",
       "    <tr>\n",
       "      <th>12</th>\n",
       "      <td>median_Ay</td>\n",
       "      <td>0.066985</td>\n",
       "    </tr>\n",
       "    <tr>\n",
       "      <th>...</th>\n",
       "      <td>...</td>\n",
       "      <td>...</td>\n",
       "    </tr>\n",
       "    <tr>\n",
       "      <th>8</th>\n",
       "      <td>skewness_Ax</td>\n",
       "      <td>0.000822</td>\n",
       "    </tr>\n",
       "    <tr>\n",
       "      <th>25</th>\n",
       "      <td>kurtosis_Az</td>\n",
       "      <td>0.000699</td>\n",
       "    </tr>\n",
       "    <tr>\n",
       "      <th>55</th>\n",
       "      <td>corr_XZ</td>\n",
       "      <td>0.000564</td>\n",
       "    </tr>\n",
       "    <tr>\n",
       "      <th>50</th>\n",
       "      <td>min_VER</td>\n",
       "      <td>0.000336</td>\n",
       "    </tr>\n",
       "    <tr>\n",
       "      <th>41</th>\n",
       "      <td>min_HOR</td>\n",
       "      <td>0.000196</td>\n",
       "    </tr>\n",
       "  </tbody>\n",
       "</table>\n",
       "<p>61 rows × 2 columns</p>\n",
       "</div>"
      ],
      "text/plain": [
       "        feature  importance\n",
       "49      max_VER    0.099291\n",
       "27      var_SVM    0.080340\n",
       "13       max_Ay    0.079426\n",
       "51    range_VER    0.070773\n",
       "12    median_Ay    0.066985\n",
       "..          ...         ...\n",
       "8   skewness_Ax    0.000822\n",
       "25  kurtosis_Az    0.000699\n",
       "55      corr_XZ    0.000564\n",
       "50      min_VER    0.000336\n",
       "41      min_HOR    0.000196\n",
       "\n",
       "[61 rows x 2 columns]"
      ]
     },
     "execution_count": 427,
     "metadata": {},
     "output_type": "execute_result"
    }
   ],
   "source": [
    "#RF.feature_importances_\n",
    "FI=pd.DataFrame()\n",
    "FI['feature']=X.columns\n",
    "FI['importance']=RF.feature_importances_\n",
    "FI=FI.sort_values(by='importance',ascending=False)\n",
    "FI"
   ]
  },
  {
   "cell_type": "code",
   "execution_count": 565,
   "metadata": {
    "ExecuteTime": {
     "end_time": "2020-11-15T07:44:14.248182Z",
     "start_time": "2020-11-15T07:44:14.226194Z"
    },
    "hidden": true
   },
   "outputs": [
    {
     "data": {
      "text/plain": [
       "['RF_3.pkl']"
      ]
     },
     "execution_count": 565,
     "metadata": {},
     "output_type": "execute_result"
    }
   ],
   "source": [
    "joblib.dump(RF,'RF_3.pkl')"
   ]
  }
 ],
 "metadata": {
  "kernelspec": {
   "display_name": "Python 3",
   "language": "python",
   "name": "python3"
  },
  "language_info": {
   "codemirror_mode": {
    "name": "ipython",
    "version": 3
   },
   "file_extension": ".py",
   "mimetype": "text/x-python",
   "name": "python",
   "nbconvert_exporter": "python",
   "pygments_lexer": "ipython3",
   "version": "3.7.0"
  },
  "toc": {
   "base_numbering": 1,
   "nav_menu": {},
   "number_sections": true,
   "sideBar": true,
   "skip_h1_title": false,
   "title_cell": "Table of Contents",
   "title_sidebar": "Contents",
   "toc_cell": false,
   "toc_position": {},
   "toc_section_display": true,
   "toc_window_display": false
  }
 },
 "nbformat": 4,
 "nbformat_minor": 4
}
